{
 "cells": [
  {
   "cell_type": "markdown",
   "metadata": {},
   "source": [
    "Read the following data set:\n",
    "https://archive.ics.uci.edu/ml/machine-learning-databases/adult/adult.data\n",
    "1. Create an sqlalchemy engine using a sample from the data set    "
   ]
  },
  {
   "cell_type": "code",
   "execution_count": 75,
   "metadata": {},
   "outputs": [
    {
     "data": {
      "text/plain": [
       "<sqlite3.Cursor at 0x2780ca5b030>"
      ]
     },
     "execution_count": 75,
     "metadata": {},
     "output_type": "execute_result"
    }
   ],
   "source": [
    "#import pandas as pd\n",
    "#import sqlite3\n",
    "#Using local csv file as 404 http error is coming sometimes\n",
    "#df=pd.read_csv(r'C:\\Users\\sidha\\Documents\\GitHub\\ACD_MDS_Online_V5_Session_13_Assignment_1_Main\\adult_data.csv')\n",
    "#df=df.head(100)\n",
    "#rename columns\n",
    "#df.columns=['age','workclass','fnlwgt','education','education_num','marital_status','occupation','relationship','race','sex','capital_gain'\n",
    "           #,'capital_loss','hours_per_week','native_country','salary']\n",
    "#Start db connection\n",
    "#conn = sqlite3.connect('sqladb.db')\n",
    "#cur = conn.cursor()\n",
    "#create table\n",
    "#cur.execute(\"create table adult (id integer,age integer,workclass text,fnlwgt integer,education test ,education_num integer ,marital_status text,occupation text,relationship text,race text,sex text,capital_gain integer,capital_loss integer,hours_per_week integer,native_country text,salary text)\")\n",
    "#insert data into table"
   ]
  },
  {
   "cell_type": "code",
   "execution_count": 1,
   "metadata": {},
   "outputs": [
    {
     "name": "stdout",
     "output_type": "stream",
     "text": [
      "2018-09-23 18:47:20,987 INFO sqlalchemy.engine.base.Engine SELECT CAST('test plain returns' AS VARCHAR(60)) AS anon_1\n",
      "2018-09-23 18:47:21,002 INFO sqlalchemy.engine.base.Engine ()\n",
      "2018-09-23 18:47:21,007 INFO sqlalchemy.engine.base.Engine SELECT CAST('test unicode returns' AS VARCHAR(60)) AS anon_1\n",
      "2018-09-23 18:47:21,012 INFO sqlalchemy.engine.base.Engine ()\n",
      "2018-09-23 18:47:21,018 INFO sqlalchemy.engine.base.Engine PRAGMA table_info(\"adult\")\n",
      "2018-09-23 18:47:21,021 INFO sqlalchemy.engine.base.Engine ()\n",
      "2018-09-23 18:47:21,028 INFO sqlalchemy.engine.base.Engine \n",
      "CREATE TABLE adult (\n",
      "\tid INTEGER NOT NULL, \n",
      "\tage INTEGER, \n",
      "\tworkclass VARCHAR(250), \n",
      "\tfnlwgt INTEGER, \n",
      "\teducation VARCHAR(250), \n",
      "\teducation_num INTEGER, \n",
      "\tmarital_status VARCHAR(250), \n",
      "\toccupation VARCHAR(250), \n",
      "\trelationship VARCHAR(250), \n",
      "\trace VARCHAR(250), \n",
      "\tsex VARCHAR(250), \n",
      "\tcapital_gain INTEGER, \n",
      "\tcapital_loss INTEGER, \n",
      "\thours_per_week INTEGER, \n",
      "\tnative_country VARCHAR(250), \n",
      "\tsalary VARCHAR(250), \n",
      "\tPRIMARY KEY (id)\n",
      ")\n",
      "\n",
      "\n",
      "2018-09-23 18:47:21,030 INFO sqlalchemy.engine.base.Engine ()\n",
      "2018-09-23 18:47:21,150 INFO sqlalchemy.engine.base.Engine COMMIT\n"
     ]
    }
   ],
   "source": [
    "#Import required libraries\n",
    "import os\n",
    "import sys\n",
    "from sqlalchemy import Column, ForeignKey, Integer, String\n",
    "from sqlalchemy.ext.declarative import declarative_base\n",
    "from sqlalchemy.orm import relationship\n",
    "from sqlalchemy import create_engine\n",
    "Base = declarative_base()\n",
    "\n",
    "#create class adult for table \n",
    "class Adult(Base):\n",
    "    __tablename__ = 'adult'\n",
    "    # Here we define columns for the table person\n",
    "    # Notice that each column is also a normal Python instance attribute.\n",
    "    id = Column(Integer, primary_key=True)\n",
    "    age =Column(Integer)\n",
    "    workclass =Column(String(250))\n",
    "    fnlwgt = Column(Integer)\n",
    "    education= Column(String(250)) \n",
    "    education_num=Column(Integer)\n",
    "    marital_status= Column(String(250))\n",
    "    occupation=Column(String(250))\n",
    "    relationship=Column(String(250))\n",
    "    race= Column(String(250))\n",
    "    sex=Column(String(250))\n",
    "    capital_gain=Column(Integer)\n",
    "    capital_loss=Column(Integer)\n",
    "    hours_per_week=Column(Integer)\n",
    "    native_country=Column(String(250))\n",
    "    salary=Column(String(250))\n",
    "#Create sqlalchmy engine for db    \n",
    "engine = create_engine('sqlite:///sqlalchmy2.db',echo=True) \n",
    "Base.metadata.create_all(engine)"
   ]
  },
  {
   "cell_type": "code",
   "execution_count": 4,
   "metadata": {},
   "outputs": [],
   "source": [
    "#Bind the session with engine and initiate the session\n",
    "from sqlalchemy.orm import sessionmaker\n",
    "DBSession = sessionmaker(bind=engine)\n",
    "session = DBSession()\n"
   ]
  },
  {
   "cell_type": "code",
   "execution_count": 5,
   "metadata": {},
   "outputs": [
    {
     "name": "stdout",
     "output_type": "stream",
     "text": [
      "2018-09-23 18:49:55,333 INFO sqlalchemy.engine.base.Engine BEGIN (implicit)\n",
      "2018-09-23 18:49:55,337 INFO sqlalchemy.engine.base.Engine INSERT INTO adult (id, age, workclass, fnlwgt, education, education_num, marital_status, occupation, relationship, race, sex, capital_gain, capital_loss, hours_per_week, native_country, salary) VALUES (?, ?, ?, ?, ?, ?, ?, ?, ?, ?, ?, ?, ?, ?, ?, ?)\n",
      "2018-09-23 18:49:55,338 INFO sqlalchemy.engine.base.Engine ((123, 20, 'Private', 83311, 'Bachelors', 13, 'Married-civ-spouse', 'Exec-managerial', 'Husband', 'White', 'Male', 500, 50, 13, 'United-States', '>50K'), (345, 20, 'State-gov', 83312, '9th', 16, 'Divorced', 'Handlers-cleaners', 'Wife', 'Black', 'Female', 600, 70, 40, 'Cuba', '>50K'), (346, 22, 'Federal-gov', 83314, 'Doctorate', 17, 'Separated', 'Prof-specialty', 'Unmarried', 'Black', 'Female', 700, 70, 20, 'Maxico', '>50K'), (347, 50, 'Self-emp-not-inc', 83315, 'Masters', 19, 'Married-civ-spouse', 'Transport-moving', 'Husband', 'Black', 'Male', 800, 40, 40, 'United-States', '>50K'), (349, 60, 'Private', 83316, 'HS-grad', 20, 'Married-civ-spouse', 'Tech-support', 'Husband', 'White', 'Male', 900, 70, 30, 'Cuba', '>50K'))\n",
      "2018-09-23 18:49:55,462 INFO sqlalchemy.engine.base.Engine COMMIT\n"
     ]
    }
   ],
   "source": [
    "#Insert data into the table adult\n",
    "new_row=Adult(id = 123,age=20,workclass='Private',fnlwgt=83311,education='Bachelors',education_num=13,marital_status='Married-civ-spouse',occupation='Exec-managerial',relationship='Husband',race='White',sex='Male',capital_gain=500,capital_loss=50,hours_per_week=13,native_country='United-States',salary='>50K')\n",
    "session.add(new_row)\n",
    "new_row=Adult(id = 345,age=20,workclass='State-gov',fnlwgt=83312,education='9th',education_num=16,marital_status='Divorced',occupation='Handlers-cleaners',relationship='Wife',race='Black',sex='Female',capital_gain=600,capital_loss=70,hours_per_week=40,native_country='Cuba',salary='>50K')\n",
    "session.add(new_row)\n",
    "new_row=Adult(id = 346,age=22,workclass='Federal-gov',fnlwgt=83314,education='Doctorate',education_num=17,marital_status='Separated',occupation='Prof-specialty',relationship='Unmarried',race='Black',sex='Female',capital_gain=700,capital_loss=70,hours_per_week=20,native_country='Maxico',salary='>50K')\n",
    "session.add(new_row)\n",
    "new_row=Adult(id = 347,age=50,workclass='Self-emp-not-inc',fnlwgt=83315,education='Masters',education_num=19,marital_status='Married-civ-spouse',occupation='Transport-moving',relationship='Husband',race='Black',sex='Male',capital_gain=800,capital_loss=40,hours_per_week=40,native_country='United-States',salary='>50K')\n",
    "session.add(new_row)\n",
    "new_row=Adult(id = 349,age=60,workclass='Private',fnlwgt=83316,education='HS-grad',education_num=20,marital_status='Married-civ-spouse',occupation='Tech-support',relationship='Husband',race='White',sex='Male',capital_gain=900,capital_loss=70,hours_per_week=30,native_country='Cuba',salary='>50K')\n",
    "session.add(new_row)\n",
    "session.commit()"
   ]
  },
  {
   "cell_type": "markdown",
   "metadata": {},
   "source": [
    "2. Write two basic update queries\n",
    "\n"
   ]
  },
  {
   "cell_type": "code",
   "execution_count": 53,
   "metadata": {},
   "outputs": [
    {
     "name": "stdout",
     "output_type": "stream",
     "text": [
      "2018-09-23 19:32:37,656 INFO sqlalchemy.engine.base.Engine SELECT adult.id AS adult_id, adult.age AS adult_age, adult.workclass AS adult_workclass, adult.fnlwgt AS adult_fnlwgt, adult.education AS adult_education, adult.education_num AS adult_education_num, adult.marital_status AS adult_marital_status, adult.occupation AS adult_occupation, adult.relationship AS adult_relationship, adult.race AS adult_race, adult.sex AS adult_sex, adult.capital_gain AS adult_capital_gain, adult.capital_loss AS adult_capital_loss, adult.hours_per_week AS adult_hours_per_week, adult.native_country AS adult_native_country, adult.salary AS adult_salary \n",
      "FROM adult\n",
      "2018-09-23 19:32:37,658 INFO sqlalchemy.engine.base.Engine ()\n",
      "123 Private Bachelors 20\n",
      "345 State-gov 9th 20\n",
      "346 Federal-gov Doctorate 22\n",
      "347 Self-emp-not-inc Masters 50\n",
      "349 Private HS-grad 60\n"
     ]
    }
   ],
   "source": [
    "from sqlalchemy import update\n",
    "#Select some rows and print\n",
    "all_rows=session.query(Adult).all()\n",
    "for row in all_rows:\n",
    "    print(str(row.id)+' '+row.workclass+' '+row.education+' '+str(row.age))"
   ]
  },
  {
   "cell_type": "code",
   "execution_count": 60,
   "metadata": {},
   "outputs": [
    {
     "name": "stdout",
     "output_type": "stream",
     "text": [
      "2018-09-23 19:37:07,220 INFO sqlalchemy.engine.base.Engine UPDATE adult SET age=? WHERE adult.id = ?\n",
      "2018-09-23 19:37:07,221 INFO sqlalchemy.engine.base.Engine (50, 123)\n",
      "2018-09-23 19:37:07,224 INFO sqlalchemy.engine.base.Engine UPDATE adult SET age=? WHERE adult.id = ?\n",
      "2018-09-23 19:37:07,303 INFO sqlalchemy.engine.base.Engine (60, 346)\n",
      "2018-09-23 19:37:07,307 INFO sqlalchemy.engine.base.Engine SELECT adult.id AS adult_id, adult.age AS adult_age, adult.workclass AS adult_workclass, adult.fnlwgt AS adult_fnlwgt, adult.education AS adult_education, adult.education_num AS adult_education_num, adult.marital_status AS adult_marital_status, adult.occupation AS adult_occupation, adult.relationship AS adult_relationship, adult.race AS adult_race, adult.sex AS adult_sex, adult.capital_gain AS adult_capital_gain, adult.capital_loss AS adult_capital_loss, adult.hours_per_week AS adult_hours_per_week, adult.native_country AS adult_native_country, adult.salary AS adult_salary \n",
      "FROM adult\n",
      "2018-09-23 19:37:07,308 INFO sqlalchemy.engine.base.Engine ()\n",
      "123 Private Bachelors 50\n",
      "345 State-gov 9th 20\n",
      "346 Federal-gov Doctorate 60\n",
      "347 Self-emp-not-inc Masters 50\n",
      "349 Private HS-grad 60\n"
     ]
    }
   ],
   "source": [
    "#update the rows\n",
    "session.query(Adult).filter_by(id=123).update({\"age\":50})\n",
    "session.query(Adult).filter_by(id=346).update({\"age\":60})\n",
    "all_rows=session.query(Adult).all()\n",
    "#print updated rows\n",
    "for row in all_rows:\n",
    "    print(str(row.id)+' '+row.workclass+' '+row.education+' '+str(row.age))"
   ]
  },
  {
   "cell_type": "markdown",
   "metadata": {},
   "source": [
    "3. Write two delete queries"
   ]
  },
  {
   "cell_type": "code",
   "execution_count": 67,
   "metadata": {},
   "outputs": [
    {
     "name": "stdout",
     "output_type": "stream",
     "text": [
      "2018-09-23 19:46:43,004 INFO sqlalchemy.engine.base.Engine DELETE FROM adult WHERE adult.id = ?\n",
      "2018-09-23 19:46:43,006 INFO sqlalchemy.engine.base.Engine (123,)\n",
      "2018-09-23 19:46:43,009 INFO sqlalchemy.engine.base.Engine DELETE FROM adult WHERE adult.id = ?\n",
      "2018-09-23 19:46:43,010 INFO sqlalchemy.engine.base.Engine (346,)\n",
      "2018-09-23 19:46:43,011 INFO sqlalchemy.engine.base.Engine COMMIT\n"
     ]
    }
   ],
   "source": [
    "from sqlalchemy import delete\n",
    "#Delete rows and commit\n",
    "session.query(Adult).filter_by(id=123).delete()\n",
    "session.query(Adult).filter_by(id=346).delete()\n",
    "session.commit()"
   ]
  },
  {
   "cell_type": "code",
   "execution_count": 68,
   "metadata": {},
   "outputs": [
    {
     "name": "stdout",
     "output_type": "stream",
     "text": [
      "2018-09-23 19:47:02,171 INFO sqlalchemy.engine.base.Engine BEGIN (implicit)\n",
      "2018-09-23 19:47:02,173 INFO sqlalchemy.engine.base.Engine SELECT adult.id AS adult_id, adult.age AS adult_age, adult.workclass AS adult_workclass, adult.fnlwgt AS adult_fnlwgt, adult.education AS adult_education, adult.education_num AS adult_education_num, adult.marital_status AS adult_marital_status, adult.occupation AS adult_occupation, adult.relationship AS adult_relationship, adult.race AS adult_race, adult.sex AS adult_sex, adult.capital_gain AS adult_capital_gain, adult.capital_loss AS adult_capital_loss, adult.hours_per_week AS adult_hours_per_week, adult.native_country AS adult_native_country, adult.salary AS adult_salary \n",
      "FROM adult\n",
      "2018-09-23 19:47:02,175 INFO sqlalchemy.engine.base.Engine ()\n",
      "345 State-gov 9th 20\n",
      "347 Self-emp-not-inc Masters 50\n",
      "349 Private HS-grad 60\n"
     ]
    }
   ],
   "source": [
    "#print curreent instance values after deleting \n",
    "all_rows=session.query(Adult).all()\n",
    "for row in all_rows:\n",
    "    print(str(row.id)+' '+row.workclass+' '+row.education+' '+str(row.age))"
   ]
  },
  {
   "cell_type": "markdown",
   "metadata": {},
   "source": [
    "4. Write two filter queries"
   ]
  },
  {
   "cell_type": "code",
   "execution_count": 78,
   "metadata": {},
   "outputs": [
    {
     "name": "stdout",
     "output_type": "stream",
     "text": [
      "2018-09-23 19:53:43,574 INFO sqlalchemy.engine.base.Engine SELECT adult.id AS adult_id, adult.age AS adult_age, adult.workclass AS adult_workclass, adult.fnlwgt AS adult_fnlwgt, adult.education AS adult_education, adult.education_num AS adult_education_num, adult.marital_status AS adult_marital_status, adult.occupation AS adult_occupation, adult.relationship AS adult_relationship, adult.race AS adult_race, adult.sex AS adult_sex, adult.capital_gain AS adult_capital_gain, adult.capital_loss AS adult_capital_loss, adult.hours_per_week AS adult_hours_per_week, adult.native_country AS adult_native_country, adult.salary AS adult_salary \n",
      "FROM adult \n",
      "WHERE adult.id = ?\n",
      "2018-09-23 19:53:43,576 INFO sqlalchemy.engine.base.Engine (345,)\n",
      "2018-09-23 19:53:43,579 INFO sqlalchemy.engine.base.Engine SELECT adult.id AS adult_id, adult.age AS adult_age, adult.workclass AS adult_workclass, adult.fnlwgt AS adult_fnlwgt, adult.education AS adult_education, adult.education_num AS adult_education_num, adult.marital_status AS adult_marital_status, adult.occupation AS adult_occupation, adult.relationship AS adult_relationship, adult.race AS adult_race, adult.sex AS adult_sex, adult.capital_gain AS adult_capital_gain, adult.capital_loss AS adult_capital_loss, adult.hours_per_week AS adult_hours_per_week, adult.native_country AS adult_native_country, adult.salary AS adult_salary \n",
      "FROM adult \n",
      "WHERE adult.id = ?\n",
      "2018-09-23 19:53:43,580 INFO sqlalchemy.engine.base.Engine (347,)\n",
      "345 State-gov 9th 20\n",
      "347 Self-emp-not-inc Masters 50\n"
     ]
    }
   ],
   "source": [
    "#Filter based on id\n",
    "fil_a=session.query(Adult).filter_by(id=345).all()\n",
    "fil_b=session.query(Adult).filter_by(id=347).all()\n",
    "#Print filtered values\n",
    "for row in fil_a:\n",
    "    print(str(row.id)+' '+row.workclass+' '+row.education+' '+str(row.age))\n",
    "for row in fil_b:\n",
    "    print(str(row.id)+' '+row.workclass+' '+row.education+' '+str(row.age))"
   ]
  },
  {
   "cell_type": "markdown",
   "metadata": {},
   "source": [
    "5. Write two function queries"
   ]
  },
  {
   "cell_type": "code",
   "execution_count": 120,
   "metadata": {},
   "outputs": [
    {
     "name": "stdout",
     "output_type": "stream",
     "text": [
      "2018-09-23 20:20:35,354 INFO sqlalchemy.engine.base.Engine SELECT max(adult.age) AS max_age \n",
      "FROM adult\n",
      "2018-09-23 20:20:35,355 INFO sqlalchemy.engine.base.Engine ()\n",
      "2018-09-23 20:20:35,357 INFO sqlalchemy.engine.base.Engine SELECT avg(adult.age) AS avg_age \n",
      "FROM adult\n",
      "2018-09-23 20:20:35,359 INFO sqlalchemy.engine.base.Engine ()\n",
      "Max age is 60\n",
      "Avg age is 43.333333333333336\n"
     ]
    }
   ],
   "source": [
    "#Inport library for functions\n",
    "from sqlalchemy.sql import func\n",
    "#Query max and avg function\n",
    "qry1 = session.query(func.max(Adult.age).label(\"max_age\"))\n",
    "qry2 = session.query(func.avg(Adult.age).label(\"avg_age\"))\n",
    "res1 = qry1.one()\n",
    "res2 = qry2.one()\n",
    "max_age = res1.max_age\n",
    "avg_age = res2.avg_age\n",
    "#Print max and avg\n",
    "print(\"Max age is {}\".format(max_age))\n",
    "print(\"Avg age is {}\".format(avg_age))"
   ]
  },
  {
   "cell_type": "code",
   "execution_count": 119,
   "metadata": {},
   "outputs": [
    {
     "name": "stdout",
     "output_type": "stream",
     "text": [
      "2018-09-23 20:20:14,980 INFO sqlalchemy.engine.base.Engine SELECT max(adult.age) AS max_age \n",
      "FROM adult\n",
      "2018-09-23 20:20:14,981 INFO sqlalchemy.engine.base.Engine ()\n",
      "2018-09-23 20:20:14,985 INFO sqlalchemy.engine.base.Engine SELECT avg(adult.age) AS avg_age \n",
      "FROM adult\n",
      "2018-09-23 20:20:14,986 INFO sqlalchemy.engine.base.Engine ()\n",
      "Max age is 60\n",
      "Avg age is 43.333333333333336\n"
     ]
    }
   ],
   "source": []
  },
  {
   "cell_type": "code",
   "execution_count": null,
   "metadata": {},
   "outputs": [],
   "source": []
  }
 ],
 "metadata": {
  "kernelspec": {
   "display_name": "Python 3",
   "language": "python",
   "name": "python3"
  },
  "language_info": {
   "codemirror_mode": {
    "name": "ipython",
    "version": 3
   },
   "file_extension": ".py",
   "mimetype": "text/x-python",
   "name": "python",
   "nbconvert_exporter": "python",
   "pygments_lexer": "ipython3",
   "version": "3.7.0"
  }
 },
 "nbformat": 4,
 "nbformat_minor": 2
}
